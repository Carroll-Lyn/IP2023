import cv2
import numpy as np

start_x, start_y, end_x, end_y = -1, -1, -1, -1
drawing = False

def draw_rectangle(event, x, y, flags, param):
    global start_x, start_y, end_x, end_y, drawing, img

    if event == cv2.EVENT_LBUTTONDOWN:
        drawing = True
        start_x, start_y = x, y
        end_x, end_y = x, y

    elif event == cv2.EVENT_MOUSEMOVE:
        if drawing:
            end_x, end_y = x, y

    elif event == cv2.EVENT_LBUTTONUP:
        drawing = False
        end_x, end_y = x, y

        color = (0, 0, 255, 128)  # Red with 50% transparency (BGR with alpha)
        thickness = -1  # Negative thickness fills the rectangle
        overlay = img.copy()
        cv2.rectangle(overlay, (start_x, start_y), (end_x, end_y), color, thickness)
        cv2.addWeighted(overlay, 0.5, img, 0.5, 0, img)

        font = cv2.FONT_HERSHEY_SIMPLEX
        text = f'Start: ({start_x}, {start_y}), End: ({end_x}, {end_y})'
        cv2.putText(img, text, (10, 30), font, 1, (0, 0, 0), 2)

image_path = 'abab.jpg'
img = cv2.imread(image_path)

desired_width = 1680
desired_height = 1000
img = cv2.resize(img, (desired_width, desired_height))

cv2.namedWindow('Everest Image')
cv2.setMouseCallback('Everest Image', draw_rectangle)
    
while True:
    cv2.imshow('Everest Image', img)
    if cv2.waitKey(20) & 0xFF == 27:  # Press 'Esc' key to exit
        break

cv2.destroyAllWindows()
