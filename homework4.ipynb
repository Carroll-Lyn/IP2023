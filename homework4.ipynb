import cv2
import numpy as np

def on_mouse_event(event, x, y, flags, param):
    global img, img_copy, start_point, end_point, alpha

    if event == cv2.EVENT_LBUTTONDOWN:
        start_point = (x, y)

    elif event == cv2.EVENT_MOUSEMOVE:
        if flags & cv2.EVENT_FLAG_LBUTTON:
            end_point = (x, y)

    elif event == cv2.EVENT_LBUTTONUP:
        if start_point != end_point:
            # 드래그된 영역을 반투명한 붉은색으로 표시
            img_copy = cv2.rectangle(img_copy, start_point, end_point, (0, 0, 255, alpha), -1)

            # 드래그된 영역의 좌표를 표시
            cv2.putText(img_copy, f"({start_point[0]}, {start_point[1]})", start_point, cv2.FONT_HERSHEY_SIMPLEX, 0.5, (0, 0, 255), 1)
            cv2.putText(img_copy, f"({end_point[0]}, {end_point[1]})", end_point, cv2.FONT_HERSHEY_SIMPLEX, 0.5, (0, 0, 255), 1)

    cv2.imshow("Image", img_copy)


if __name__ == "__main__":
    img = cv2.imread("abab.jpg")
    img_copy = img.copy()
    start_point = None
    end_point = None
    alpha = 0.5

    cv2.namedWindow("Image")
    cv2.setMouseCallback("Image", on_mouse_event)

    while True:
        cv2.imshow("Image", img_copy)
        key = cv2.waitKey(1)
        if key == 27:
            break

    cv2.destroyAllWindows()
